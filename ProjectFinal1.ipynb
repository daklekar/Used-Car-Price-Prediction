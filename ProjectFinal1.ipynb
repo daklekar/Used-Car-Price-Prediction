{
 "cells": [
  {
   "cell_type": "code",
   "execution_count": 1,
   "id": "9c57bc4c",
   "metadata": {},
   "outputs": [],
   "source": [
    "import numpy as np\n",
    "import pandas as pd\n",
    "import matplotlib.pyplot as plt\n",
    "from sklearn.decomposition import PCA\n",
    "from sklearn.linear_model import LinearRegression\n",
    "from sklearn. model_selection import KFold\n",
    "from sklearn.model_selection import cross_val_score\n",
    "from sklearn. linear_model import LogisticRegression\n",
    "from sklearn. decomposition import PCA as RandomizedPCA\n",
    "from sklearn import datasets, linear_model, metrics\n",
    "from sklearn. metrics import confusion_matrix\n",
    "from sklearn.metrics import classification_report"
   ]
  },
  {
   "cell_type": "code",
   "execution_count": 2,
   "id": "ecadb519",
   "metadata": {},
   "outputs": [
    {
     "data": {
      "text/html": [
       "<div>\n",
       "<style scoped>\n",
       "    .dataframe tbody tr th:only-of-type {\n",
       "        vertical-align: middle;\n",
       "    }\n",
       "\n",
       "    .dataframe tbody tr th {\n",
       "        vertical-align: top;\n",
       "    }\n",
       "\n",
       "    .dataframe thead th {\n",
       "        text-align: right;\n",
       "    }\n",
       "</style>\n",
       "<table border=\"1\" class=\"dataframe\">\n",
       "  <thead>\n",
       "    <tr style=\"text-align: right;\">\n",
       "      <th></th>\n",
       "      <th>Unnamed: 0</th>\n",
       "      <th>x0_ACURA</th>\n",
       "      <th>x0_ASTON MARTIN</th>\n",
       "      <th>x0_AUDI</th>\n",
       "      <th>x0_BENTLEY</th>\n",
       "      <th>x0_BMW</th>\n",
       "      <th>x0_BUICK</th>\n",
       "      <th>x0_CADILLAC</th>\n",
       "      <th>x0_CHEVROLET</th>\n",
       "      <th>x0_CHRYSLER</th>\n",
       "      <th>...</th>\n",
       "      <th>x5_Silver</th>\n",
       "      <th>x5_Sky blue</th>\n",
       "      <th>x5_White</th>\n",
       "      <th>x5_Yellow</th>\n",
       "      <th>Prod. year</th>\n",
       "      <th>Engine volume</th>\n",
       "      <th>Mileage</th>\n",
       "      <th>Cylinders</th>\n",
       "      <th>Airbags</th>\n",
       "      <th>Price</th>\n",
       "    </tr>\n",
       "  </thead>\n",
       "  <tbody>\n",
       "    <tr>\n",
       "      <th>0</th>\n",
       "      <td>0</td>\n",
       "      <td>0</td>\n",
       "      <td>0</td>\n",
       "      <td>1</td>\n",
       "      <td>0</td>\n",
       "      <td>0</td>\n",
       "      <td>0</td>\n",
       "      <td>0</td>\n",
       "      <td>0</td>\n",
       "      <td>0</td>\n",
       "      <td>...</td>\n",
       "      <td>0</td>\n",
       "      <td>0</td>\n",
       "      <td>0</td>\n",
       "      <td>0</td>\n",
       "      <td>1.155377</td>\n",
       "      <td>0.865499</td>\n",
       "      <td>-0.729308</td>\n",
       "      <td>1.411612</td>\n",
       "      <td>1.331523</td>\n",
       "      <td>25089</td>\n",
       "    </tr>\n",
       "    <tr>\n",
       "      <th>1</th>\n",
       "      <td>1</td>\n",
       "      <td>0</td>\n",
       "      <td>0</td>\n",
       "      <td>0</td>\n",
       "      <td>0</td>\n",
       "      <td>1</td>\n",
       "      <td>0</td>\n",
       "      <td>0</td>\n",
       "      <td>0</td>\n",
       "      <td>0</td>\n",
       "      <td>...</td>\n",
       "      <td>0</td>\n",
       "      <td>0</td>\n",
       "      <td>1</td>\n",
       "      <td>0</td>\n",
       "      <td>1.893813</td>\n",
       "      <td>-0.305374</td>\n",
       "      <td>-1.123801</td>\n",
       "      <td>-0.420490</td>\n",
       "      <td>1.331523</td>\n",
       "      <td>10192</td>\n",
       "    </tr>\n",
       "    <tr>\n",
       "      <th>2</th>\n",
       "      <td>2</td>\n",
       "      <td>0</td>\n",
       "      <td>0</td>\n",
       "      <td>0</td>\n",
       "      <td>0</td>\n",
       "      <td>1</td>\n",
       "      <td>0</td>\n",
       "      <td>0</td>\n",
       "      <td>0</td>\n",
       "      <td>0</td>\n",
       "      <td>...</td>\n",
       "      <td>0</td>\n",
       "      <td>0</td>\n",
       "      <td>0</td>\n",
       "      <td>0</td>\n",
       "      <td>-1.798368</td>\n",
       "      <td>-0.773724</td>\n",
       "      <td>-1.453610</td>\n",
       "      <td>-2.252593</td>\n",
       "      <td>-0.135882</td>\n",
       "      <td>8500</td>\n",
       "    </tr>\n",
       "    <tr>\n",
       "      <th>3</th>\n",
       "      <td>3</td>\n",
       "      <td>0</td>\n",
       "      <td>0</td>\n",
       "      <td>0</td>\n",
       "      <td>0</td>\n",
       "      <td>1</td>\n",
       "      <td>0</td>\n",
       "      <td>0</td>\n",
       "      <td>0</td>\n",
       "      <td>0</td>\n",
       "      <td>...</td>\n",
       "      <td>0</td>\n",
       "      <td>0</td>\n",
       "      <td>0</td>\n",
       "      <td>0</td>\n",
       "      <td>-1.059931</td>\n",
       "      <td>-0.305374</td>\n",
       "      <td>0.802758</td>\n",
       "      <td>-0.420490</td>\n",
       "      <td>-1.603287</td>\n",
       "      <td>18817</td>\n",
       "    </tr>\n",
       "    <tr>\n",
       "      <th>4</th>\n",
       "      <td>4</td>\n",
       "      <td>0</td>\n",
       "      <td>0</td>\n",
       "      <td>0</td>\n",
       "      <td>0</td>\n",
       "      <td>1</td>\n",
       "      <td>0</td>\n",
       "      <td>0</td>\n",
       "      <td>0</td>\n",
       "      <td>0</td>\n",
       "      <td>...</td>\n",
       "      <td>0</td>\n",
       "      <td>0</td>\n",
       "      <td>1</td>\n",
       "      <td>0</td>\n",
       "      <td>-1.429150</td>\n",
       "      <td>0.865499</td>\n",
       "      <td>0.814897</td>\n",
       "      <td>1.411612</td>\n",
       "      <td>0.353253</td>\n",
       "      <td>21012</td>\n",
       "    </tr>\n",
       "  </tbody>\n",
       "</table>\n",
       "<p>5 rows × 84 columns</p>\n",
       "</div>"
      ],
      "text/plain": [
       "   Unnamed: 0  x0_ACURA  x0_ASTON MARTIN  x0_AUDI  x0_BENTLEY  x0_BMW  \\\n",
       "0           0         0                0        1           0       0   \n",
       "1           1         0                0        0           0       1   \n",
       "2           2         0                0        0           0       1   \n",
       "3           3         0                0        0           0       1   \n",
       "4           4         0                0        0           0       1   \n",
       "\n",
       "   x0_BUICK  x0_CADILLAC  x0_CHEVROLET  x0_CHRYSLER  ...  x5_Silver  \\\n",
       "0         0            0             0            0  ...          0   \n",
       "1         0            0             0            0  ...          0   \n",
       "2         0            0             0            0  ...          0   \n",
       "3         0            0             0            0  ...          0   \n",
       "4         0            0             0            0  ...          0   \n",
       "\n",
       "   x5_Sky blue  x5_White  x5_Yellow  Prod. year  Engine volume   Mileage  \\\n",
       "0            0         0          0    1.155377       0.865499 -0.729308   \n",
       "1            0         1          0    1.893813      -0.305374 -1.123801   \n",
       "2            0         0          0   -1.798368      -0.773724 -1.453610   \n",
       "3            0         0          0   -1.059931      -0.305374  0.802758   \n",
       "4            0         1          0   -1.429150       0.865499  0.814897   \n",
       "\n",
       "   Cylinders   Airbags  Price  \n",
       "0   1.411612  1.331523  25089  \n",
       "1  -0.420490  1.331523  10192  \n",
       "2  -2.252593 -0.135882   8500  \n",
       "3  -0.420490 -1.603287  18817  \n",
       "4   1.411612  0.353253  21012  \n",
       "\n",
       "[5 rows x 84 columns]"
      ]
     },
     "execution_count": 2,
     "metadata": {},
     "output_type": "execute_result"
    }
   ],
   "source": [
    "carPricing = pd.DataFrame(pd.read_csv('Processed_Data_1.csv'))\n",
    "carPricing.head()"
   ]
  },
  {
   "cell_type": "code",
   "execution_count": 3,
   "id": "5155a780",
   "metadata": {},
   "outputs": [
    {
     "data": {
      "text/plain": [
       "9640"
      ]
     },
     "execution_count": 3,
     "metadata": {},
     "output_type": "execute_result"
    }
   ],
   "source": [
    "m = len(carPricing)\n",
    "m"
   ]
  },
  {
   "cell_type": "code",
   "execution_count": 4,
   "id": "486286a1",
   "metadata": {},
   "outputs": [],
   "source": [
    "df = pd.DataFrame(carPricing)\n",
    "column_names = df.columns.values"
   ]
  },
  {
   "cell_type": "code",
   "execution_count": 5,
   "id": "c590970f",
   "metadata": {},
   "outputs": [],
   "source": [
    "X1 = carPricing.iloc[:, 1:-1].values\n",
    "Y1 = carPricing.iloc[:, -1].values"
   ]
  },
  {
   "cell_type": "code",
   "execution_count": 6,
   "id": "b5934fd7",
   "metadata": {},
   "outputs": [],
   "source": [
    "X1 = carPricing.iloc[:, 1:-1].values\n",
    "Y1 = carPricing.iloc[:, -1].values"
   ]
  },
  {
   "cell_type": "code",
   "execution_count": 7,
   "id": "95fa2fcc",
   "metadata": {},
   "outputs": [
    {
     "data": {
      "text/plain": [
       "(7712, 84)"
      ]
     },
     "execution_count": 7,
     "metadata": {},
     "output_type": "execute_result"
    }
   ],
   "source": [
    "from sklearn.model_selection import train_test_split\n",
    "np.random.seed(0)\n",
    "df_train, df_test =train_test_split(carPricing, train_size = 0.8, test_size = 0.2)\n",
    "df_train.shape"
   ]
  },
  {
   "cell_type": "code",
   "execution_count": 8,
   "id": "96ed3dec",
   "metadata": {},
   "outputs": [],
   "source": [
    "Y_train = df_train.values[:,0]\n",
    "X_train = df_train.values[:,1:13]\n",
    "Y_test = df_test.values[:,0]\n",
    "X_test = df_test.values[:,1:13]"
   ]
  },
  {
   "cell_type": "code",
   "execution_count": 9,
   "id": "2d0370c2",
   "metadata": {},
   "outputs": [
    {
     "data": {
      "text/plain": [
       "(7712, 12)"
      ]
     },
     "execution_count": 9,
     "metadata": {},
     "output_type": "execute_result"
    }
   ],
   "source": [
    "X_train.shape"
   ]
  },
  {
   "cell_type": "code",
   "execution_count": 10,
   "id": "20ab5266",
   "metadata": {},
   "outputs": [
    {
     "data": {
      "text/plain": [
       "(1928, 12)"
      ]
     },
     "execution_count": 10,
     "metadata": {},
     "output_type": "execute_result"
    }
   ],
   "source": [
    "X_test.shape"
   ]
  },
  {
   "cell_type": "code",
   "execution_count": 11,
   "id": "6849b37c",
   "metadata": {},
   "outputs": [],
   "source": [
    "#Now we’ll do feature scaling to scale our data between 0 and 1 to get better accuracy.\n",
    " \n",
    "from sklearn.preprocessing import StandardScaler \n",
    "sc_X1 = StandardScaler() \n",
    "X_train = sc_X1.fit_transform(X_train) \n",
    "X_test = sc_X1.transform(X_test)"
   ]
  },
  {
   "cell_type": "code",
   "execution_count": 12,
   "id": "9a5ef948",
   "metadata": {},
   "outputs": [],
   "source": [
    "#Lets create a matrix with single column of ones \n",
    "X_01 = np.ones((7712, 1)) \n",
    "X_02 = np.ones((1928, 1))"
   ]
  },
  {
   "cell_type": "code",
   "execution_count": 13,
   "id": "0bc264dd",
   "metadata": {},
   "outputs": [],
   "source": [
    "# Using reshape function convert X 1D array to 2D array of dimension 97x1 \n",
    "X_N1 = X_train.reshape(7712, 12) \n",
    "X_N2 = X_test.reshape(1928, 12)"
   ]
  },
  {
   "cell_type": "code",
   "execution_count": 14,
   "id": "c933a78d",
   "metadata": {},
   "outputs": [],
   "source": [
    "X_train1 = np.hstack((X_01, X_N1)) \n",
    "X_test1 = np.hstack((X_02, X_N2))"
   ]
  },
  {
   "cell_type": "code",
   "execution_count": 15,
   "id": "1a857795",
   "metadata": {},
   "outputs": [
    {
     "data": {
      "text/plain": [
       "(7712, 13)"
      ]
     },
     "execution_count": 15,
     "metadata": {},
     "output_type": "execute_result"
    }
   ],
   "source": [
    "X_train1.shape"
   ]
  },
  {
   "cell_type": "code",
   "execution_count": 16,
   "id": "b3c08bcf",
   "metadata": {},
   "outputs": [
    {
     "data": {
      "text/plain": [
       "(7712,)"
      ]
     },
     "execution_count": 16,
     "metadata": {},
     "output_type": "execute_result"
    }
   ],
   "source": [
    "theta = np.zeros(13) \n",
    "theta\n",
    "Y_train.shape"
   ]
  },
  {
   "cell_type": "code",
   "execution_count": 17,
   "id": "5860f974",
   "metadata": {},
   "outputs": [],
   "source": [
    "def compute_cost(X, Y, theta): \n",
    "    predictions = X.dot(theta) \n",
    "    errors = np.subtract(predictions, Y) \n",
    "    sqrErrors = np.square(errors) \n",
    "    J = 1 / (2 * m) * np.sum(sqrErrors) \n",
    "\n",
    "    return J"
   ]
  },
  {
   "cell_type": "code",
   "execution_count": 18,
   "id": "52e25821",
   "metadata": {},
   "outputs": [],
   "source": [
    "def gradient_descent(X, X2, Y ,Y2, theta, alpha, iterations):\n",
    "    cost_history = np.zeros(iterations) \n",
    "    cost_history2 = np.zeros(iterations) \n",
    "\n",
    "    for i in range(iterations): \n",
    "        predictions = X.dot(theta) \n",
    "        errors = np.subtract(predictions, Y) \n",
    "        sum_delta = (alpha / m) * X.transpose().dot(errors); \n",
    "        theta = theta - sum_delta; \n",
    "        cost_history[i] = compute_cost(X, Y, theta)   \n",
    "        cost_history2[i] = compute_cost(X2, Y2, theta)\n",
    "    return theta, cost_history, cost_history2"
   ]
  },
  {
   "cell_type": "code",
   "execution_count": 19,
   "id": "3627a642",
   "metadata": {},
   "outputs": [],
   "source": [
    "iterations = 8000; \n",
    "alpha = 0.1;"
   ]
  },
  {
   "cell_type": "code",
   "execution_count": 20,
   "id": "4ac2cb39",
   "metadata": {},
   "outputs": [
    {
     "name": "stdout",
     "output_type": "stream",
     "text": [
      "Final value of theta = [4803.28643672   67.06183833    0.         -130.98112279   11.56908509\n",
      "   99.97254778  -84.16240912   26.26433321 -136.14817602 -109.40293439\n",
      " -201.37424909  -49.76205795 -165.75607791]\n",
      "cost_history = 3046530.8130221586 755378.4603354966\n"
     ]
    }
   ],
   "source": [
    "theta, cost_history_a, cost_history2_a = gradient_descent(X_train1, X_test1, Y_train, Y_test, theta, alpha, iterations) \n",
    "print('Final value of theta =', theta) \n",
    "print('cost_history =', cost_history_a[-1], cost_history2_a[-1])"
   ]
  },
  {
   "cell_type": "code",
   "execution_count": 21,
   "id": "0bee7bf5",
   "metadata": {},
   "outputs": [
    {
     "data": {
      "text/plain": [
       "[<matplotlib.lines.Line2D at 0x118556152b0>]"
      ]
     },
     "execution_count": 21,
     "metadata": {},
     "output_type": "execute_result"
    },
    {
     "data": {
      "image/png": "[encoded data removed]",
      "text/plain": [
       "<Figure size 640x480 with 1 Axes>"
      ]
     },
     "metadata": {},
     "output_type": "display_data"
    }
   ],
   "source": [
    "plt.plot(cost_history_a, label = \"line 1\")\n",
    "plt.plot(cost_history2_a, label = \"line 2\")"
   ]
  },
  {
   "cell_type": "code",
   "execution_count": 26,
   "id": "1a2e3984",
   "metadata": {},
   "outputs": [
    {
     "name": "stdout",
     "output_type": "stream",
     "text": [
      "1\n",
      "229020180.8162393\n",
      "RMSE:  15133.412728668947\n",
      "-----------------\n",
      "2\n",
      "190896699.16794223\n",
      "RMSE:  13816.537162688132\n",
      "-----------------\n",
      "3\n",
      "174489054.8089978\n",
      "RMSE:  13209.430525537344\n",
      "-----------------\n",
      "4\n",
      "174450221.1071479\n",
      "RMSE:  13207.960520350896\n",
      "-----------------\n",
      "5\n",
      "173065347.21349117\n",
      "RMSE:  13155.430331748603\n",
      "-----------------\n",
      "6\n",
      "172780361.82887617\n",
      "RMSE:  13144.594395753571\n",
      "-----------------\n",
      "7\n",
      "171387292.524465\n",
      "RMSE:  13091.496955064573\n",
      "-----------------\n",
      "8\n",
      "168652248.20948923\n",
      "RMSE:  12986.618043566586\n",
      "-----------------\n",
      "9\n",
      "163767971.17555076\n",
      "RMSE:  12797.186064739028\n",
      "-----------------\n",
      "10\n",
      "161187632.35976407\n",
      "RMSE:  12695.969138264478\n",
      "-----------------\n",
      "11\n",
      "158680466.1173867\n",
      "RMSE:  12596.843498169956\n",
      "-----------------\n",
      "12\n",
      "158232254.47117627\n",
      "RMSE:  12579.040284186081\n",
      "-----------------\n",
      "13\n",
      "158071934.5791876\n",
      "RMSE:  12572.666168286964\n",
      "-----------------\n",
      "14\n",
      "156621818.26428905\n",
      "RMSE:  12514.863893158768\n",
      "-----------------\n",
      "15\n",
      "156308188.6319892\n",
      "RMSE:  12502.327328621228\n",
      "-----------------\n",
      "16\n",
      "156276464.58471948\n",
      "RMSE:  12501.058538568623\n",
      "-----------------\n",
      "17\n",
      "156139933.3992875\n",
      "RMSE:  12495.596560360273\n",
      "-----------------\n",
      "18\n",
      "156043968.2651245\n",
      "RMSE:  12491.7560120715\n",
      "-----------------\n",
      "19\n",
      "155841356.86675215\n",
      "RMSE:  12483.643573362391\n",
      "-----------------\n",
      "20\n",
      "155180263.07014924\n",
      "RMSE:  12457.137033449912\n",
      "-----------------\n",
      "21\n",
      "154858509.39690587\n",
      "RMSE:  12444.215901249298\n",
      "-----------------\n",
      "22\n",
      "154647434.83922693\n",
      "RMSE:  12435.732179458793\n",
      "-----------------\n",
      "23\n",
      "154633073.46580335\n",
      "RMSE:  12435.154742334465\n",
      "-----------------\n",
      "24\n",
      "154417930.70340675\n",
      "RMSE:  12426.501144868042\n",
      "-----------------\n",
      "25\n",
      "154389662.04052362\n",
      "RMSE:  12425.363658280736\n",
      "-----------------\n",
      "26\n",
      "152436781.44207695\n",
      "RMSE:  12346.529125307929\n",
      "-----------------\n",
      "27\n",
      "151925171.75958127\n",
      "RMSE:  12325.792946483454\n",
      "-----------------\n",
      "28\n",
      "150385700.36260355\n",
      "RMSE:  12263.184756114684\n",
      "-----------------\n",
      "29\n",
      "149846444.3286798\n",
      "RMSE:  12241.178224692254\n",
      "-----------------\n",
      "30\n",
      "149757090.59259716\n",
      "RMSE:  12237.527960850473\n",
      "-----------------\n",
      "31\n",
      "149871578.49770045\n",
      "RMSE:  12242.204805413952\n",
      "-----------------\n",
      "32\n",
      "149835476.9792221\n",
      "RMSE:  12240.730246975549\n",
      "-----------------\n",
      "33\n",
      "148772308.95554197\n",
      "RMSE:  12197.225461372023\n",
      "-----------------\n",
      "34\n",
      "148877664.86609378\n",
      "RMSE:  12201.54354440838\n",
      "-----------------\n",
      "35\n",
      "148561011.78821522\n",
      "RMSE:  12188.560693872563\n",
      "-----------------\n",
      "36\n",
      "148591836.2030752\n",
      "RMSE:  12189.82510961807\n",
      "-----------------\n",
      "37\n",
      "148457622.46881938\n",
      "RMSE:  12184.318711722022\n",
      "-----------------\n",
      "38\n",
      "147965078.95988873\n",
      "RMSE:  12164.089730016329\n",
      "-----------------\n",
      "39\n",
      "146760751.1964731\n",
      "RMSE:  12114.48518082684\n",
      "-----------------\n",
      "40\n",
      "146100750.42104334\n",
      "RMSE:  12087.214336688307\n",
      "-----------------\n"
     ]
    }
   ],
   "source": [
    "from sklearn.metrics import mean_squared_error\n",
    "MSE_lin = []\n",
    "RMSE_lin = []\n",
    "for k in range(1, 41):\n",
    "    pca=PCA(n_components=k)\n",
    "    principalComponents = pca.fit_transform(X1)\n",
    "    principalDf = pd.DataFrame(data=principalComponents)\n",
    "    X_train, X_test, Y_train, Y_test = train_test_split(principalComponents,\n",
    "                                                       Y1, test_size=0.2,\n",
    "                                                       random_state=0)\n",
    "    y_lin = LinearRegression().fit(X_train, Y_train).predict(X_test)\n",
    "    MSE_lin.append(mean_squared_error(Y_test, y_lin))\n",
    "    RMSE_lin.append(np.sqrt(mean_squared_error(Y_test, y_lin)))\n",
    "    print(k)\n",
    "    print(MSE_lin[-1])\n",
    "    print('RMSE: ', RMSE_lin[-1])\n",
    "    print(\"-----------------\")"
   ]
  },
  {
   "cell_type": "code",
   "execution_count": 27,
   "id": "7101235b",
   "metadata": {},
   "outputs": [
    {
     "name": "stdout",
     "output_type": "stream",
     "text": [
      "(40,)\n"
     ]
    },
    {
     "data": {
      "text/plain": [
       "Text(0.5, 1.0, 'Root-Mean-Squared-Error (RMSE) vs No. PCA Components')"
      ]
     },
     "execution_count": 27,
     "metadata": {},
     "output_type": "execute_result"
    },
    {
     "data": {
      "text/plain": [
       "<Figure size 640x480 with 0 Axes>"
      ]
     },
     "metadata": {},
     "output_type": "display_data"
    },
    {
     "data": {
      "image/png": "[encoded data removed]",
      "text/plain": [
       "<Figure size 640x480 with 1 Axes>"
      ]
     },
     "metadata": {},
     "output_type": "display_data"
    }
   ],
   "source": [
    "plt.figure(1)\n",
    "fig = plt.figure(dpi=100)\n",
    "print(np.array(MSE_lin).shape)\n",
    "plt.plot(RMSE_lin, color='orange', label='Linear Regression')\n",
    "plt.grid(mean_squared_error(Y_test, y_lin))\n",
    "plt.xlabel('Number of PCA Components')\n",
    "plt.ylabel('RMSE')\n",
    "plt.title(\"Root-Mean-Squared-Error (RMSE) vs No. PCA Components\")"
   ]
  },
  {
   "cell_type": "code",
   "execution_count": null,
   "id": "ac42fba6",
   "metadata": {},
   "outputs": [],
   "source": []
  }
 ],
 "metadata": {
  "kernelspec": {
   "display_name": "Python 3 (ipykernel)",
   "language": "python",
   "name": "python3"
  },
  "language_info": {
   "codemirror_mode": {
    "name": "ipython",
    "version": 3
   },
   "file_extension": ".py",
   "mimetype": "text/x-python",
   "name": "python",
   "nbconvert_exporter": "python",
   "pygments_lexer": "ipython3",
   "version": "3.9.13"
  }
 },
 "nbformat": 4,
 "nbformat_minor": 5
}
